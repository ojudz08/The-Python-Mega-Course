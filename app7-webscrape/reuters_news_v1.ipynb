{
 "cells": [
  {
   "cell_type": "code",
   "execution_count": 5,
   "metadata": {},
   "outputs": [],
   "source": [
    "# Version 1: Get the (1) News Title and (2) Url link from Reuters\n",
    "import requests\n",
    "from bs4 import BeautifulSoup\n",
    "\n",
    "# base_url - url lin for Reuter's Business news archive\n",
    "base_url = \"https://www.reuters.com/news/archive/businessnews?view=page&page=\"\n",
    "headers = headers={'User-agent': 'Mozilla/5.0 (X11; Ubuntu; Linux x86_64; rv:61.0) Gecko/20100101 Firefox/61.0'}\n",
    "\n",
    "# assigns an empty list where Headline, URL and page is saved on a list\n",
    "list_news = []\n",
    "\n",
    "\n",
    "# a loop in going into each pages (from 1 to 10)\n",
    "for page in range(1, 11):\n",
    "    page_url = base_url + str(page) + \"&pageSize=10\"\n",
    "    page_cont = requests.get(page_url, headers).content\n",
    "    \n",
    "    page_soup = BeautifulSoup(page_cont, \"html.parser\")\n",
    "    page_all = page_soup.find(\"div\", {\"class\":\"news-headline-list\"}).find_all(\"article\", {\"class\":\"story\"})  # the element list where headlines and url is pulled out\n",
    "    \n",
    "    # a loop in getting the headlines and url per page\n",
    "    for i in page_all:\n",
    "        d = {}\n",
    "        d[\"Page\"] = \"pp. \" + str(page_soup.find(\"div\", {\"class\":\"control-nav\"})[\"data-page\"])\n",
    "        d[\"Headline\"] = i.find(\"h3\", {\"class\":\"story-title\"}).text.replace(\"\\n\",\"\").replace(\"\\t\",\"\")\n",
    "        d[\"URL\"] = \"https://www.reuters.com\" + i.find(\"a\")[\"href\"]\n",
    "\n",
    "        list_news.append(d)\n",
    "    \n",
    "\n",
    "# store the news list in an xlsx file\n",
    "import pandas as pd\n",
    "\n",
    "df = pd.DataFrame(list_news)\n",
    "df.to_excel(\"ReutersNews_output.xlsx\")"
   ]
  },
  {
   "cell_type": "code",
   "execution_count": null,
   "metadata": {},
   "outputs": [],
   "source": []
  }
 ],
 "metadata": {
  "kernelspec": {
   "display_name": "Python 3",
   "language": "python",
   "name": "python3"
  },
  "language_info": {
   "codemirror_mode": {
    "name": "ipython",
    "version": 3
   },
   "file_extension": ".py",
   "mimetype": "text/x-python",
   "name": "python",
   "nbconvert_exporter": "python",
   "pygments_lexer": "ipython3",
   "version": "3.7.6"
  }
 },
 "nbformat": 4,
 "nbformat_minor": 4
}
