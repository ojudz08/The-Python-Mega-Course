{
 "cells": [
  {
   "cell_type": "code",
   "execution_count": 1,
   "metadata": {},
   "outputs": [],
   "source": [
    "import requests\n",
    "from bs4 import BeautifulSoup\n",
    "\n",
    "r = requests.get(\"http://www.pyclass.com/real-estate/rock-springs-wy/LCWYROCKSPRINGS/\", headers={'User-agent': 'Mozilla/5.0 (X11; Ubuntu; Linux x86_64; rv:61.0) Gecko/20100101 Firefox/61.0'})\n",
    "c = r.content\n",
    "\n",
    "soup = BeautifulSoup(c, \"html.parser\")\n",
    "\n",
    "all = soup.find_all(\"div\", {\"class\":\"propertyRow\"}) # returns all the elements with div class, you may check each element"
   ]
  },
  {
   "cell_type": "code",
   "execution_count": 8,
   "metadata": {},
   "outputs": [
    {
     "data": {
      "text/plain": [
       "'$725,000'"
      ]
     },
     "execution_count": 8,
     "metadata": {},
     "output_type": "execute_result"
    }
   ],
   "source": [
    "# getting the price of property in the first row \n",
    "all[0].find(\"h4\", {\"class\":\"propPrice\"}).text.replace(\"\\n\",\"\").replace(\" \", \"\") # replaces all \\n and whitespace with \"\""
   ]
  },
  {
   "cell_type": "code",
   "execution_count": 11,
   "metadata": {},
   "outputs": [
    {
     "data": {
      "text/plain": [
       "'0 Gateway'"
      ]
     },
     "execution_count": 11,
     "metadata": {},
     "output_type": "execute_result"
    }
   ],
   "source": [
    "# getting the address of property in the first row \n",
    "all[0].find(\"span\", {\"class\":\"propAddressCollapse\"}).text"
   ]
  },
  {
   "cell_type": "code",
   "execution_count": 12,
   "metadata": {},
   "outputs": [
    {
     "data": {
      "text/plain": [
       "'1003 Winchester Blvd.'"
      ]
     },
     "execution_count": 12,
     "metadata": {},
     "output_type": "execute_result"
    }
   ],
   "source": [
    "# getting the address of property in the first row \n",
    "all[1].find(\"span\", {\"class\":\"propAddressCollapse\"}).text"
   ]
  },
  {
   "cell_type": "code",
   "execution_count": 13,
   "metadata": {},
   "outputs": [
    {
     "data": {
      "text/plain": [
       "'4'"
      ]
     },
     "execution_count": 13,
     "metadata": {},
     "output_type": "execute_result"
    }
   ],
   "source": [
    "# getting the number of beds of property in the 2nd row since 1st row is None \n",
    "all[1].find(\"span\", {\"class\":\"infoBed\"}).find(\"b\").text"
   ]
  },
  {
   "cell_type": "code",
   "execution_count": 14,
   "metadata": {},
   "outputs": [
    {
     "data": {
      "text/plain": [
       "'4'"
      ]
     },
     "execution_count": 14,
     "metadata": {},
     "output_type": "execute_result"
    }
   ],
   "source": [
    "# getting the number of baths of property in the 2nd row since 1st row is None \n",
    "all[1].find(\"span\", {\"class\":\"infoValueFullBath\"}).find(\"b\").text"
   ]
  },
  {
   "cell_type": "code",
   "execution_count": 15,
   "metadata": {},
   "outputs": [
    {
     "data": {
      "text/plain": [
       "'3,154'"
      ]
     },
     "execution_count": 15,
     "metadata": {},
     "output_type": "execute_result"
    }
   ],
   "source": [
    "# getting the area of property in the 3rd row since 1st & 2nd row is None \n",
    "all[2].find(\"span\", {\"class\":\"infoSqFt\"}).find(\"b\").text"
   ]
  },
  {
   "cell_type": "code",
   "execution_count": 2,
   "metadata": {},
   "outputs": [],
   "source": [
    "# iterate in  for loop all elements you want to get and assign it to a dictionary\n",
    "# note: for the ff elements: Beds, Area, Full Baths and Half Baths, I converted the text to int \n",
    "# so that whenever it is saved into the excel file, those will be saved as numbers\n",
    "\n",
    "list_features = []\n",
    "\n",
    "\n",
    "for i in all:\n",
    "    d = {}\n",
    "    d[\"Address\"] = i.find_all(\"span\", {\"class\":\"propAddressCollapse\"})[0].text\n",
    "    d[\"Locality\"] = i.find_all(\"span\", {\"class\":\"propAddressCollapse\"})[1].text\n",
    "    d[\"Price\"] = i.find(\"h4\", {\"class\":\"propPrice\"}).text.replace(\"\\n\", \"\").replace(\" \", \"\")\n",
    "    \n",
    "    try:\n",
    "        d[\"Beds\"] = int(i.find(\"span\", {\"class\":\"infoBed\"}).find(\"b\").text)\n",
    "    except:\n",
    "        d[\"Beds\"] = None\n",
    "    \n",
    "    try:\n",
    "        d[\"Area\"] = int(i.find(\"span\", {\"class\":\"infoSqFt\"}).find(\"b\").text)\n",
    "    except:\n",
    "        d[\"Area\"] = None\n",
    "    \n",
    "    try:\n",
    "        d[\"Full Baths\"] = int(i.find(\"span\", {\"class\":\"infoValueFullBath\"}).find(\"b\").text)\n",
    "    except:\n",
    "        d[\"Full Baths\"] = None\n",
    "    \n",
    "    try:\n",
    "        d[\"Half Baths\"] = int(i.find(\"span\", {\"class\":\"infoValueHalfBath\"}).find(\"b\").text)\n",
    "    except:\n",
    "        d[\"Half Baths\"] = None\n",
    "       \n",
    "    try:\n",
    "        for column_group in i.find_all(\"div\", {\"class\":\"columnGroup\"}):\n",
    "            for feature_group, feature_name in zip(column_group.find_all(\"span\", {\"class\":\"featureGroup\"}),\n",
    "                                               column_group.find_all(\"span\", {\"class\": \"featureName\"})):\n",
    "                if \"Lot Size\" in feature_group.text:\n",
    "                    d[\"Lot Size\"] = feature_name.text\n",
    "    except:\n",
    "        print(None)\n",
    "    \n",
    "    list_features.append(d)"
   ]
  },
  {
   "cell_type": "code",
   "execution_count": 58,
   "metadata": {},
   "outputs": [
    {
     "data": {
      "text/plain": [
       "[{'Address': '0 Gateway',\n",
       "  'Locality': 'Rock Springs, WY 82901',\n",
       "  'Price': '$725,000',\n",
       "  'Beds': None,\n",
       "  'Area': None,\n",
       "  'Full Baths': None,\n",
       "  'Half Baths': None},\n",
       " {'Address': '1003 Winchester Blvd.',\n",
       "  'Locality': 'Rock Springs, WY 82901',\n",
       "  'Price': '$452,900',\n",
       "  'Beds': 4,\n",
       "  'Area': None,\n",
       "  'Full Baths': 4,\n",
       "  'Half Baths': None,\n",
       "  'Lot Size': '0.21 Acres'},\n",
       " {'Address': '600 Talladega',\n",
       "  'Locality': 'Rock Springs, WY 82901',\n",
       "  'Price': '$396,900',\n",
       "  'Beds': 5,\n",
       "  'Area': None,\n",
       "  'Full Baths': 3,\n",
       "  'Half Baths': None},\n",
       " {'Address': '3239 Spearhead Way',\n",
       "  'Locality': 'Rock Springs, WY 82901',\n",
       "  'Price': '$389,900',\n",
       "  'Beds': 4,\n",
       "  'Area': None,\n",
       "  'Full Baths': 3,\n",
       "  'Half Baths': 1,\n",
       "  'Lot Size': 'Under 1/2 Acre, '},\n",
       " {'Address': '522 Emerald Street',\n",
       "  'Locality': 'Rock Springs, WY 82901',\n",
       "  'Price': '$254,000',\n",
       "  'Beds': 3,\n",
       "  'Area': None,\n",
       "  'Full Baths': 3,\n",
       "  'Half Baths': None,\n",
       "  'Lot Size': 'Under 1/2 Acre, '},\n",
       " {'Address': \"1302 Veteran's Drive\",\n",
       "  'Locality': 'Rock Springs, WY 82901',\n",
       "  'Price': '$252,900',\n",
       "  'Beds': 4,\n",
       "  'Area': None,\n",
       "  'Full Baths': 2,\n",
       "  'Half Baths': None,\n",
       "  'Lot Size': '0.27 Acres'},\n",
       " {'Address': '1021 Cypress Cir',\n",
       "  'Locality': 'Rock Springs, WY 82901',\n",
       "  'Price': '$210,000',\n",
       "  'Beds': 4,\n",
       "  'Area': None,\n",
       "  'Full Baths': 3,\n",
       "  'Half Baths': None,\n",
       "  'Lot Size': 'Under 1/2 Acre, '},\n",
       " {'Address': '913 Madison Dr',\n",
       "  'Locality': 'Rock Springs, WY 82901',\n",
       "  'Price': '$209,000',\n",
       "  'Beds': 3,\n",
       "  'Area': None,\n",
       "  'Full Baths': 2,\n",
       "  'Half Baths': None,\n",
       "  'Lot Size': 'Under 1/2 Acre, '},\n",
       " {'Address': '1344 Teton Street',\n",
       "  'Locality': 'Rock Springs, WY 82901',\n",
       "  'Price': '$199,900',\n",
       "  'Beds': 3,\n",
       "  'Area': None,\n",
       "  'Full Baths': 2,\n",
       "  'Half Baths': None,\n",
       "  'Lot Size': 'Under 1/2 Acre, '},\n",
       " {'Address': '4 Minnies Lane',\n",
       "  'Locality': 'Rock Springs, WY 82901',\n",
       "  'Price': '$196,900',\n",
       "  'Beds': 3,\n",
       "  'Area': None,\n",
       "  'Full Baths': 2,\n",
       "  'Half Baths': None,\n",
       "  'Lot Size': '2.02 Acres'}]"
      ]
     },
     "execution_count": 58,
     "metadata": {},
     "output_type": "execute_result"
    }
   ],
   "source": [
    "list_features"
   ]
  },
  {
   "cell_type": "code",
   "execution_count": 3,
   "metadata": {},
   "outputs": [],
   "source": [
    "# store the above list in a dataframe\n",
    "\n",
    "import pandas as pd\n",
    "\n",
    "df = pd.DataFrame(list_features)\n",
    "df.to_excel(\"webscraping_output.xlsx\")"
   ]
  },
  {
   "cell_type": "code",
   "execution_count": null,
   "metadata": {},
   "outputs": [],
   "source": []
  }
 ],
 "metadata": {
  "kernelspec": {
   "display_name": "Python 3",
   "language": "python",
   "name": "python3"
  },
  "language_info": {
   "codemirror_mode": {
    "name": "ipython",
    "version": 3
   },
   "file_extension": ".py",
   "mimetype": "text/x-python",
   "name": "python",
   "nbconvert_exporter": "python",
   "pygments_lexer": "ipython3",
   "version": "3.7.6"
  }
 },
 "nbformat": 4,
 "nbformat_minor": 4
}
