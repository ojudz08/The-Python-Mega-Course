{
 "cells": [
  {
   "cell_type": "code",
   "execution_count": 1,
   "metadata": {
    "scrolled": true
   },
   "outputs": [],
   "source": [
    "# Version 2: Get the (1) Date and timestamp; (2) News Title; (3) News Content and (4) URL from Reuters\n",
    "import requests\n",
    "from bs4 import BeautifulSoup\n",
    "\n",
    "# base_url - url link for Reuter's Business news archive\n",
    "base_url = \"https://www.reuters.com/news/archive/businessnews?view=page&page=\"\n",
    "headers = headers={'User-agent': 'Mozilla/5.0 (X11; Ubuntu; Linux x86_64; rv:61.0) Gecko/20100101 Firefox/61.0'}\n",
    "\n",
    "# assigns an empty list\n",
    "list_news = []\n",
    "\n",
    "# loop to go into each pages (from page 1 to 10)\n",
    "for page in range(1, 220):\n",
    "    page_url = base_url + str(page) + \"&pageSize=10\"\n",
    "    page_cont = requests.get(page_url, headers).content\n",
    "    \n",
    "    page_soup = BeautifulSoup(page_cont, \"html.parser\")\n",
    "    page_all = page_soup.find(\"div\", {\"class\":\"news-headline-list\"}).find_all(\"article\", {\"class\":\"story\"})\n",
    "\n",
    "     # a loop in getting the headlines and url per page\n",
    "    for i in page_all:\n",
    "        d = {}\n",
    "        headlines_base = i.find(\"h3\", {\"class\":\"story-title\"}).text.replace(\"\\n\",\"\").replace(\"\\t\",\"\")\n",
    "        headlines_url = \"https://www.reuters.com\" + i.find(\"a\")[\"href\"]\n",
    "        headlines_cont = requests.get(headlines_url, headers).content\n",
    "        headlines_soup = BeautifulSoup(headlines_cont, \"html.parser\")\n",
    "        headlines_all = headlines_soup.find(\"div\", {\"class\":\"StandardArticle_inner-container\"})        \n",
    "        \n",
    "        headlines_news = headlines_soup.find(\"h1\", {\"class\":\"ArticleHeader_headline\"}).text\n",
    "        \n",
    "        if headlines_base == headlines_news:\n",
    "            d[\"Headlines\"] = headlines_base\n",
    "        else:\n",
    "            d[\"Headlines\"] = headlines_news\n",
    "        \n",
    "        #d[\"Content\"] = headlines_soup.find(\"div\", {\"class\":\"StandardArticleBody_body\"}).find_all(\"p\")[0].text\n",
    "        d[\"Date\"] = headlines_all.find(\"div\", {\"class\":\"ArticleHeader_date\"}).text.split(\" / \")[0]\n",
    "        d[\"Url\"] = headlines_url\n",
    "        \n",
    "        list_news.append(d)\n",
    "    \n",
    "    #print(list_news[1])\n",
    "    \n",
    "# store the news list in an xlsx file\n",
    "import pandas as pd\n",
    "\n",
    "df = pd.DataFrame(list_news)\n",
    "df.to_excel(\"ReutersNews_output.xlsx\")"
   ]
  },
  {
   "cell_type": "code",
   "execution_count": null,
   "metadata": {},
   "outputs": [],
   "source": []
  },
  {
   "cell_type": "code",
   "execution_count": 59,
   "metadata": {},
   "outputs": [
    {
     "name": "stdout",
     "output_type": "stream",
     "text": [
      "26\n"
     ]
    },
    {
     "ename": "AttributeError",
     "evalue": "'NoneType' object has no attribute 'text'",
     "output_type": "error",
     "traceback": [
      "\u001b[1;31m---------------------------------------------------------------------------\u001b[0m",
      "\u001b[1;31mAttributeError\u001b[0m                            Traceback (most recent call last)",
      "\u001b[1;32m<ipython-input-59-5b0ae057dca1>\u001b[0m in \u001b[0;36m<module>\u001b[1;34m\u001b[0m\n\u001b[0;32m      8\u001b[0m \u001b[1;32mfor\u001b[0m \u001b[0mi\u001b[0m \u001b[1;32min\u001b[0m \u001b[0malls\u001b[0m\u001b[1;33m:\u001b[0m\u001b[1;33m\u001b[0m\u001b[1;33m\u001b[0m\u001b[0m\n\u001b[0;32m      9\u001b[0m     \u001b[0md\u001b[0m \u001b[1;33m=\u001b[0m \u001b[1;33m{\u001b[0m\u001b[1;33m}\u001b[0m\u001b[1;33m\u001b[0m\u001b[1;33m\u001b[0m\u001b[0m\n\u001b[1;32m---> 10\u001b[1;33m     \u001b[0md\u001b[0m\u001b[1;33m[\u001b[0m\u001b[1;34m\"A\"\u001b[0m\u001b[1;33m]\u001b[0m \u001b[1;33m=\u001b[0m \u001b[0mi\u001b[0m\u001b[1;33m.\u001b[0m\u001b[0mfind\u001b[0m\u001b[1;33m(\u001b[0m\u001b[1;34m\"p\"\u001b[0m\u001b[1;33m)\u001b[0m\u001b[1;33m.\u001b[0m\u001b[0mtext\u001b[0m\u001b[1;33m\u001b[0m\u001b[1;33m\u001b[0m\u001b[0m\n\u001b[0m\u001b[0;32m     11\u001b[0m     \u001b[0mlist_n\u001b[0m\u001b[1;33m.\u001b[0m\u001b[0mappend\u001b[0m\u001b[1;33m(\u001b[0m\u001b[0md\u001b[0m\u001b[1;33m)\u001b[0m\u001b[1;33m\u001b[0m\u001b[1;33m\u001b[0m\u001b[0m\n\u001b[0;32m     12\u001b[0m     \u001b[0mprint\u001b[0m\u001b[1;33m(\u001b[0m\u001b[0mlist_n\u001b[0m\u001b[1;33m)\u001b[0m\u001b[1;33m\u001b[0m\u001b[1;33m\u001b[0m\u001b[0m\n",
      "\u001b[1;31mAttributeError\u001b[0m: 'NoneType' object has no attribute 'text'"
     ]
    }
   ],
   "source": [
    "url = \"https://www.reuters.com/article/us-twitter-cyber-washington/twitter-stepped-up-search-to-fill-top-security-job-ahead-of-hack-idUSKCN24H2DG\"\n",
    "cont = requests.get(url, headers).content\n",
    "soup = BeautifulSoup(cont, \"html.parser\")\n",
    "alls = soup.find(\"div\", {\"class\":\"StandardArticleBody_body\"})\n",
    "\n",
    "list_n = []\n",
    "print(len(alls.find_all(\"p\")))\n",
    "for i in alls:\n",
    "    d = {}\n",
    "    d[\"A\"] = i.find(\"p\").text\n",
    "    list_n.append(d)\n",
    "    print(list_n)\n",
    "    \n",
    "#print(\"\\nparagraphs_nr = \" + str(len(alls.find(\"div\", {\"class\":\"StandardArticleBody_body\"}).find_all(\"p\"))))\n",
    "\n",
    "\n"
   ]
  },
  {
   "cell_type": "code",
   "execution_count": null,
   "metadata": {},
   "outputs": [],
   "source": []
  }
 ],
 "metadata": {
  "kernelspec": {
   "display_name": "Python 3",
   "language": "python",
   "name": "python3"
  },
  "language_info": {
   "codemirror_mode": {
    "name": "ipython",
    "version": 3
   },
   "file_extension": ".py",
   "mimetype": "text/x-python",
   "name": "python",
   "nbconvert_exporter": "python",
   "pygments_lexer": "ipython3",
   "version": "3.7.6"
  }
 },
 "nbformat": 4,
 "nbformat_minor": 4
}
