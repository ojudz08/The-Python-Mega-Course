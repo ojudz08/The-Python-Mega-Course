{
 "cells": [
  {
   "cell_type": "code",
   "execution_count": 1,
   "metadata": {},
   "outputs": [],
   "source": [
    "import requests\n",
    "from bs4 import BeautifulSoup\n",
    "\n",
    "r = requests.get(\"http://www.pyclass.com/real-estate/rock-springs-wy/LCWYROCKSPRINGS/\", headers={'User-agent': 'Mozilla/5.0 (X11; Ubuntu; Linux x86_64; rv:61.0) Gecko/20100101 Firefox/61.0'})\n",
    "c = r.content\n",
    "\n",
    "soup = BeautifulSoup(c, \"html.parser\")\n",
    "\n",
    "#all = soup.find_all(\"div\", {\"class\":\"propertyRow\"}) \n",
    "\n",
    "page_nr = soup.find_all(\"a\", {\"class\":\"Page\"})[-1].text"
   ]
  },
  {
   "cell_type": "code",
   "execution_count": 2,
   "metadata": {},
   "outputs": [
    {
     "name": "stdout",
     "output_type": "stream",
     "text": [
      "http://www.pyclass.com/real-estate/rock-springs-wy/LCWYROCKSPRINGS/t=0&s=0.html\n",
      "http://www.pyclass.com/real-estate/rock-springs-wy/LCWYROCKSPRINGS/t=0&s=10.html\n",
      "http://www.pyclass.com/real-estate/rock-springs-wy/LCWYROCKSPRINGS/t=0&s=20.html\n"
     ]
    }
   ],
   "source": [
    "list_features = []\n",
    "\n",
    "base_url = \"http://www.pyclass.com/real-estate/rock-springs-wy/LCWYROCKSPRINGS/t=0&s=\"\n",
    "\n",
    "for page in range(0, int(page_nr)*10, 10):\n",
    "    print(base_url + str(page) + \".html\")\n",
    "    r = requests.get(base_url + str(page) + \".html\", headers={'User-agent': 'Mozilla/5.0 (X11; Ubuntu; Linux x86_64; rv:61.0) Gecko/20100101 Firefox/61.0'})\n",
    "    c = r.content\n",
    "    soup = BeautifulSoup(c, \"html.parser\")\n",
    "    all = soup.find_all(\"div\", {\"class\":\"propertyRow\"}) \n",
    "\n",
    "    for i in all:\n",
    "        d = {}\n",
    "        \n",
    "        d[\"Address\"] = i.find_all(\"span\", {\"class\":\"propAddressCollapse\"})[0].text\n",
    "        \n",
    "        try:\n",
    "            d[\"Locality\"] = i.find_all(\"span\", {\"class\":\"propAddressCollapse\"})[1].text\n",
    "        except:\n",
    "            d[\"Locality\"] = None\n",
    "        \n",
    "        d[\"Price\"] = i.find(\"h4\", {\"class\":\"propPrice\"}).text.replace(\"\\n\", \"\").replace(\" \", \"\")\n",
    "\n",
    "        try:\n",
    "            d[\"Beds\"] = int(i.find(\"span\", {\"class\":\"infoBed\"}).find(\"b\").text)\n",
    "        except:\n",
    "            d[\"Beds\"] = None\n",
    "\n",
    "        try:\n",
    "            d[\"Area\"] = int(i.find(\"span\", {\"class\":\"infoSqFt\"}).find(\"b\").text)\n",
    "        except:\n",
    "            d[\"Area\"] = None\n",
    "\n",
    "        try:\n",
    "            d[\"Full Baths\"] = int(i.find(\"span\", {\"class\":\"infoValueFullBath\"}).find(\"b\").text)\n",
    "        except:\n",
    "            d[\"Full Baths\"] = None\n",
    "\n",
    "        try:\n",
    "            d[\"Half Baths\"] = int(i.find(\"span\", {\"class\":\"infoValueHalfBath\"}).find(\"b\").text)\n",
    "        except:\n",
    "            d[\"Half Baths\"] = None\n",
    "\n",
    "        try:\n",
    "            for column_group in i.find_all(\"div\", {\"class\":\"columnGroup\"}):\n",
    "                for feature_group, feature_name in zip(column_group.find_all(\"span\", {\"class\":\"featureGroup\"}),\n",
    "                                                   column_group.find_all(\"span\", {\"class\": \"featureName\"})):\n",
    "                    if \"Lot Size\" in feature_group.text:\n",
    "                        d[\"Lot Size\"] = feature_name.text\n",
    "        except:\n",
    "            d[\"Lot Size\"] = None\n",
    "\n",
    "        list_features.append(d)"
   ]
  },
  {
   "cell_type": "code",
   "execution_count": 3,
   "metadata": {},
   "outputs": [],
   "source": [
    "# store the above list in a dataframe\n",
    "\n",
    "import pandas as pd\n",
    "\n",
    "df = pd.DataFrame(list_features)\n",
    "df.to_excel(\"webscraping_output.xlsx\")"
   ]
  },
  {
   "cell_type": "code",
   "execution_count": null,
   "metadata": {},
   "outputs": [],
   "source": []
  }
 ],
 "metadata": {
  "kernelspec": {
   "display_name": "Python 3",
   "language": "python",
   "name": "python3"
  },
  "language_info": {
   "codemirror_mode": {
    "name": "ipython",
    "version": 3
   },
   "file_extension": ".py",
   "mimetype": "text/x-python",
   "name": "python",
   "nbconvert_exporter": "python",
   "pygments_lexer": "ipython3",
   "version": "3.7.6"
  }
 },
 "nbformat": 4,
 "nbformat_minor": 4
}
