{
 "cells": [
  {
   "cell_type": "code",
   "execution_count": 1,
   "id": "9b062ac4",
   "metadata": {},
   "outputs": [
    {
     "data": {
      "text/plain": [
       "'\\nA program that stores this book information:\\nTitle, Author\\nYear, ISBN\\n\\nUser will be able to:\\n\\nView all records\\nSearch an entry\\nAdd entry\\nUpdated entry\\nDelete\\nClose\\n'"
      ]
     },
     "execution_count": 1,
     "metadata": {},
     "output_type": "execute_result"
    }
   ],
   "source": [
    "\"\"\"\n",
    "A program that stores this book information:\n",
    "Title, Author\n",
    "Year, ISBN\n",
    "\n",
    "User will be able to:\n",
    "\n",
    "View all records\n",
    "Search an entry\n",
    "Add entry\n",
    "Updated entry\n",
    "Delete\n",
    "Close\n",
    "\"\"\""
   ]
  },
  {
   "cell_type": "code",
   "execution_count": 3,
   "id": "79d5bc73",
   "metadata": {},
   "outputs": [
    {
     "ename": "ModuleNotFoundError",
     "evalue": "No module named 'backend'",
     "output_type": "error",
     "traceback": [
      "\u001b[1;31m---------------------------------------------------------------------------\u001b[0m",
      "\u001b[1;31mModuleNotFoundError\u001b[0m                       Traceback (most recent call last)",
      "\u001b[1;32m<ipython-input-3-2dd754e007a2>\u001b[0m in \u001b[0;36m<module>\u001b[1;34m\u001b[0m\n\u001b[0;32m      1\u001b[0m \u001b[1;32mfrom\u001b[0m \u001b[0mtkinter\u001b[0m \u001b[1;32mimport\u001b[0m \u001b[1;33m*\u001b[0m\u001b[1;33m\u001b[0m\u001b[1;33m\u001b[0m\u001b[0m\n\u001b[1;32m----> 2\u001b[1;33m \u001b[1;32mimport\u001b[0m \u001b[0mbackend\u001b[0m\u001b[1;33m.\u001b[0m\u001b[0mipny\u001b[0m\u001b[1;33m\u001b[0m\u001b[1;33m\u001b[0m\u001b[0m\n\u001b[0m\u001b[0;32m      3\u001b[0m \u001b[1;33m\u001b[0m\u001b[0m\n\u001b[0;32m      4\u001b[0m \u001b[1;32mdef\u001b[0m \u001b[0mview_command\u001b[0m\u001b[1;33m(\u001b[0m\u001b[1;33m)\u001b[0m\u001b[1;33m:\u001b[0m\u001b[1;33m\u001b[0m\u001b[1;33m\u001b[0m\u001b[0m\n\u001b[0;32m      5\u001b[0m     \u001b[1;32mfor\u001b[0m \u001b[0mrow\u001b[0m \u001b[1;32min\u001b[0m \u001b[0mbackend\u001b[0m\u001b[1;33m.\u001b[0m\u001b[0mview\u001b[0m\u001b[1;33m(\u001b[0m\u001b[1;33m)\u001b[0m\u001b[1;33m:\u001b[0m\u001b[1;33m\u001b[0m\u001b[1;33m\u001b[0m\u001b[0m\n",
      "\u001b[1;31mModuleNotFoundError\u001b[0m: No module named 'backend'"
     ]
    }
   ],
   "source": [
    "from tkinter import *\n",
    "import backend\n",
    "\n",
    "def view_command():\n",
    "    for row in backend.view():\n",
    "        list1.insert(END, row)\n",
    "\n",
    "\n",
    "window = Tk()\n",
    "\n",
    "l1 = Label(window, text = \"Title\")\n",
    "l1.grid(row=0, column=0)\n",
    "\n",
    "l2 = Label(window, text = \"Author\")\n",
    "l2.grid(row=0, column=2)\n",
    "\n",
    "l3 = Label(window, text = \"Year\")\n",
    "l3.grid(row=1, column=0)\n",
    "\n",
    "l4 = Label(window, text = \"ISBN\")\n",
    "l4.grid(row=1, column=2)\n",
    "\n",
    "title_text = StringVar()\n",
    "e1 = Entry(window, textvariable = title_text)\n",
    "e1.grid(row=0, column=1)\n",
    "\n",
    "author_text = StringVar()\n",
    "e2 = Entry(window, textvariable = author_text)\n",
    "e2.grid(row=0, column=3)\n",
    "\n",
    "year_text = StringVar()\n",
    "e3 = Entry(window, textvariable = year_text)\n",
    "e3.grid(row=1, column=1)\n",
    "\n",
    "isbn_text = StringVar()\n",
    "e4 = Entry(window, textvariable = isbn_text)\n",
    "e4.grid(row=1, column=3)\n",
    "\n",
    "list1 = Listbox(window, height=12, width=25)\n",
    "list1.grid(row=2, column=0, rowspan=6, columnspan=2)\n",
    "\n",
    "sb1 = Scrollbar(window)\n",
    "sb1.grid(row=2, column=2, rowspan=6)\n",
    "\n",
    "list1.configure(yscrollcommand=sb1.set)\n",
    "sb1.configure(command=list1.yview)\n",
    "\n",
    "b1 = Button(window, text=\"View All\", width=12, command=view_command)\n",
    "b1.grid(row=2, column=3)\n",
    "\n",
    "b2 = Button(window, text=\"Search Entry\", width=12)\n",
    "b2.grid(row=3, column=3)\n",
    "\n",
    "b3 = Button(window, text=\"Add Entry\", width=12)\n",
    "b3.grid(row=4, column=3)\n",
    "\n",
    "b4 = Button(window, text=\"Update\", width=12)\n",
    "b4.grid(row=5, column=3)\n",
    "\n",
    "b5 = Button(window, text=\"Delete\", width=12)\n",
    "b5.grid(row=6, column=3)\n",
    "\n",
    "b6 = Button(window, text=\"Close\", width=12)\n",
    "b6.grid(row=7, column=3)\n",
    "\n",
    "\n",
    "window.mainloop()"
   ]
  },
  {
   "cell_type": "code",
   "execution_count": null,
   "id": "9576d346",
   "metadata": {},
   "outputs": [],
   "source": []
  }
 ],
 "metadata": {
  "kernelspec": {
   "display_name": "Python 3",
   "language": "python",
   "name": "python3"
  },
  "language_info": {
   "codemirror_mode": {
    "name": "ipython",
    "version": 3
   },
   "file_extension": ".py",
   "mimetype": "text/x-python",
   "name": "python",
   "nbconvert_exporter": "python",
   "pygments_lexer": "ipython3",
   "version": "3.7.10"
  }
 },
 "nbformat": 4,
 "nbformat_minor": 5
}
