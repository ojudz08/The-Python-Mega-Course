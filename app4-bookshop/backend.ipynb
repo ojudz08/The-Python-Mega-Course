{
 "cells": [
  {
   "cell_type": "code",
   "execution_count": 25,
   "id": "a72ac589",
   "metadata": {},
   "outputs": [
    {
     "name": "stdout",
     "output_type": "stream",
     "text": [
      "[(1, 'The sea', 'John Tablet', 1918, 913123132), (2, 'The sea', 'John Tablet', 1918, 913123132), (4, 'The moon', 'Jogh Smooth', 1917, 99999), (5, 'Hey You', 'Pink', 1918, 1238123), (6, 'Hey There You', 'Pink', 1918, 2342), (7, 'The sea', 'John Tablet', 1918, 913123132), (8, 'The sea', 'John Tablet', 1918, 913123132), (9, 'The Earth', 'John Tablet', 1918, 913123132), (10, 'The Earth', 'John Smith', 1918, 913123132), (11, 'The Earth', 'John Smith', 1918, 913123132), (12, 'The Earth', 'John Smith', 1918, 913123132)]\n"
     ]
    }
   ],
   "source": [
    "import sqlite3\n",
    "\n",
    "def connect():\n",
    "    conn = sqlite3.connect(\"books.db\")\n",
    "    cur = conn.cursor()\n",
    "    cur.execute(\"CREATE TABLE IF NOT EXISTS book (id INTEGER PRIMARY KEY, title text, author text, year integer, isbn integer)\")\n",
    "    conn.commit()\n",
    "    conn.close()\n",
    "\n",
    "    \n",
    "def insert(title, author, year, isbn):\n",
    "    conn = sqlite3.connect(\"books.db\")\n",
    "    cur = conn.cursor()\n",
    "    cur.execute(\"INSERT INTO book VALUES (NULL, ?, ?, ?, ?)\", (title, author, year, isbn))\n",
    "    conn.commit()\n",
    "    conn.close()\n",
    "    \n",
    "\n",
    "def view():\n",
    "    conn = sqlite3.connect(\"books.db\")\n",
    "    cur = conn.cursor()\n",
    "    cur.execute(\"SELECT * FROM book\")\n",
    "    rows = cur.fetchall()\n",
    "    conn.close()\n",
    "    return rows\n",
    "\n",
    "\n",
    "def search(title=\"\", author=\"\", year=\"\", isbn=\"\"):\n",
    "    conn = sqlite3.connect(\"books.db\")\n",
    "    cur = conn.cursor()\n",
    "    cur.execute(\"SELECT * FROM book WHERE title=? OR author=? OR year=? OR isbn=?\", (title, author, year, isbn))\n",
    "    rows = cur.fetchall()\n",
    "    conn.close()\n",
    "    return rows\n",
    "    \n",
    "    \n",
    "def delete(id):\n",
    "    conn = sqlite3.connect(\"books.db\")\n",
    "    cur = conn.cursor()\n",
    "    cur.execute(\"DELETE FROM book WHERE id=?\", (id, ))\n",
    "    conn.commit()\n",
    "    conn.close()\n",
    "    \n",
    "\n",
    "def update(id, title, author, year, isbn):\n",
    "    conn = sqlite3.connect(\"books.db\")\n",
    "    cur = conn.cursor()\n",
    "    cur.execute(\"UPDATE book SET title=?, author=?, year=?, isbn=? WHERE id=?\", (title, author, year, isbn, id))\n",
    "    conn.commit()\n",
    "    conn.close()\n",
    "    \n",
    "\n",
    "    \n",
    "connect()\n",
    "#insert(\"The Earth\", \"John Smith\", 1918, 913123132)\n",
    "#delete(3)\n",
    "#update(4, \"The moon\", \"Jogh Smooth\", 1917, 99999)\n",
    "print(view())\n",
    "#print(search(author=\"John Smith\"))"
   ]
  },
  {
   "cell_type": "code",
   "execution_count": null,
   "id": "722aec37",
   "metadata": {},
   "outputs": [],
   "source": []
  }
 ],
 "metadata": {
  "kernelspec": {
   "display_name": "Python 3",
   "language": "python",
   "name": "python3"
  },
  "language_info": {
   "codemirror_mode": {
    "name": "ipython",
    "version": 3
   },
   "file_extension": ".py",
   "mimetype": "text/x-python",
   "name": "python",
   "nbconvert_exporter": "python",
   "pygments_lexer": "ipython3",
   "version": "3.7.10"
  }
 },
 "nbformat": 4,
 "nbformat_minor": 5
}
