{
 "cells": [
  {
   "cell_type": "code",
   "execution_count": 94,
   "metadata": {},
   "outputs": [],
   "source": [
    "# Webmap\n",
    "import folium\n",
    "import pandas as pd\n",
    "\n",
    "def color_producer(elevation):\n",
    "    if elevation < 1000:\n",
    "        return \"green\"\n",
    "    elif 1000 <= elevation < 3000:\n",
    "        return \"orange\"\n",
    "    else:\n",
    "        return \"red\"\n",
    "\n",
    "map = folium.Map(location = [39, -99], zoom_start = 6, tiles = \"Stamen Terrain\")   # create the map\n",
    "\n",
    "fgv = folium.FeatureGroup(name=\"Volcanoes\")\n",
    "\n",
    "volc_data = pd.read_csv(\"volcanoes.txt\")    # volcanoes data in txt file, you can also save it as csv\n",
    "lat = list(volc_data[\"LAT\"])\n",
    "lon = list(volc_data[\"LON\"])\n",
    "elev = list(volc_data[\"ELEV\"])\n",
    "name = list(volc_data[\"NAME\"])\n",
    "    \n",
    "# marks the elevation of each volcano\n",
    "for lt, ln, nm, el in zip(lat, lon, name, elev):\n",
    "    fgv.add_child(folium.CircleMarker(location = [lt, ln], radius = 6, popup = nm + \" \" + str(el),\n",
    "                                     fill_color = color_producer(el), color = \"gray\", fill_opacity = 0.6))\n",
    "\n",
    "fgp = folium.FeatureGroup(name=\"Population\")\n",
    "    \n",
    "# adds polygon layer on the map and choropleth map\n",
    "fgp.add_child(folium.GeoJson(data=open(\"world.json\", \"r\", encoding = \"utf-8-sig\").read(),\n",
    "                            style_function = lambda x: {'fillColor':'green' if x['properties']['POP2005'] < 10000000\n",
    "                                                       else 'orange' if 10000000 <= x['properties']['POP2005'] < 20000000 else 'red'}))\n",
    "\n",
    "map.add_child(fgv)\n",
    "map.add_child(fgp)\n",
    "\n",
    "# adds layer control on the map\n",
    "map.add_child(folium.LayerControl())\n",
    "\n",
    "map.save(\"Map1.html\")    # saves the created map"
   ]
  },
  {
   "cell_type": "code",
   "execution_count": 68,
   "metadata": {},
   "outputs": [],
   "source": [
    "# links in the popup window\n",
    "import folium\n",
    "import pandas\n",
    " \n",
    "data = pandas.read_csv(\"volcanoes.txt\")\n",
    "lat = list(data[\"LAT\"])\n",
    "lon = list(data[\"LON\"])\n",
    "elev = list(data[\"ELEV\"])\n",
    "name = list(data[\"NAME\"])\n",
    " \n",
    "html = \"\"\"\n",
    "Volcano name:<br>\n",
    "<a href=\"https://www.google.com/search?q=%%22%s%%22\" target=\"_blank\">%s</a><br>\n",
    "Height: %s m\n",
    "\"\"\"\n",
    " \n",
    "map = folium.Map(location=[38.58, -99.09], zoom_start=5, tiles=\"Mapbox Bright\")\n",
    "fg = folium.FeatureGroup(name = \"My Map\")\n",
    " \n",
    "for lt, ln, el, name in zip(lat, lon, elev, name):\n",
    "    iframe = folium.IFrame(html=html % (name, name, el), width=200, height=100)\n",
    "    fg.add_child(folium.Marker(location=[lt, ln], popup=folium.Popup(iframe), icon = folium.Icon(color = \"green\")))\n",
    " \n",
    "map.add_child(fg)\n",
    "map.save(\"Map_html_popup_advanced.html\")"
   ]
  },
  {
   "cell_type": "code",
   "execution_count": null,
   "metadata": {},
   "outputs": [],
   "source": []
  },
  {
   "cell_type": "code",
   "execution_count": null,
   "metadata": {},
   "outputs": [],
   "source": []
  }
 ],
 "metadata": {
  "kernelspec": {
   "display_name": "Python 3",
   "language": "python",
   "name": "python3"
  },
  "language_info": {
   "codemirror_mode": {
    "name": "ipython",
    "version": 3
   },
   "file_extension": ".py",
   "mimetype": "text/x-python",
   "name": "python",
   "nbconvert_exporter": "python",
   "pygments_lexer": "ipython3",
   "version": "3.7.6"
  }
 },
 "nbformat": 4,
 "nbformat_minor": 4
}
